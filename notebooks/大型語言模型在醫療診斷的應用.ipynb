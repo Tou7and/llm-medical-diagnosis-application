{
  "nbformat": 4,
  "nbformat_minor": 0,
  "metadata": {
    "colab": {
      "provenance": [],
      "gpuType": "T4"
    },
    "kernelspec": {
      "name": "python3",
      "display_name": "Python 3"
    },
    "language_info": {
      "name": "python"
    },
    "accelerator": "GPU"
  },
  "cells": [
    {
      "cell_type": "code",
      "execution_count": null,
      "metadata": {
        "id": "0Q5FH8rO0R8D"
      },
      "outputs": [],
      "source": [
        "!nvidia-smi"
      ]
    },
    {
      "cell_type": "code",
      "source": [
        "!pip install colab-xterm"
      ],
      "metadata": {
        "id": "fj8lo0WT1_VW"
      },
      "execution_count": null,
      "outputs": []
    },
    {
      "cell_type": "code",
      "source": [
        "%load_ext colabxterm"
      ],
      "metadata": {
        "id": "v21uLcem33Bx"
      },
      "execution_count": null,
      "outputs": []
    },
    {
      "cell_type": "code",
      "source": [
        "%xterm"
      ],
      "metadata": {
        "id": "J3v5hNkz35ta"
      },
      "execution_count": null,
      "outputs": []
    },
    {
      "cell_type": "code",
      "source": [
        "%xterm"
      ],
      "metadata": {
        "id": "PcGDuTum0ySs"
      },
      "execution_count": null,
      "outputs": []
    },
    {
      "cell_type": "code",
      "source": [
        "!pip install langchain\n",
        "!pip install langchain-core\n",
        "!pip install langchain-community\n",
        "!pip install langchain-ollama"
      ],
      "metadata": {
        "id": "XCfb_bas2r5d"
      },
      "execution_count": null,
      "outputs": []
    },
    {
      "cell_type": "code",
      "source": [
        "import os\n",
        "import json\n",
        "import uuid\n",
        "from typing import Union, List, Optional\n",
        "from langchain_ollama import ChatOllama\n",
        "\n",
        "gemma3 = ChatOllama(model=\"gemma3:4b\",temperature=0.7)\n",
        "gemma3_json = gemma3.bind(format=\"json\")\n",
        "\n",
        "resp = gemma3.invoke(\"說一個電腦科學家才懂的笑話\")\n",
        "print(resp.content)"
      ],
      "metadata": {
        "id": "FSzlC31o6e-D"
      },
      "execution_count": null,
      "outputs": []
    },
    {
      "cell_type": "code",
      "source": [
        "with open(\"icd10cm_mapping.json\", \"r\") as reader:\n",
        "    ICD_MAPPING = json.load(reader)\n",
        "print(ICD_MAPPING[\"I10\"])"
      ],
      "metadata": {
        "id": "V5ynHtNS_CNL"
      },
      "execution_count": null,
      "outputs": []
    },
    {
      "cell_type": "code",
      "source": [
        "with open(\"random_icd10_collections.json\", \"r\") as reader:\n",
        "    icd_collections = json.load(reader)\n",
        "\n",
        "# icd_collections = [[\"G52.3\", \"I10\", \"E11.9\"]]"
      ],
      "metadata": {
        "id": "3CuMqUbu3cR8"
      },
      "execution_count": null,
      "outputs": []
    },
    {
      "cell_type": "code",
      "source": [
        "def generate_virtual_patient_single(diagnosis: str) -> Optional[dict]:\n",
        "    \"\"\"\n",
        "    Generate a full virtual patient case from ICD codes in a single prompt.\n",
        "    Retries up to 3 times if the generated JSON is malformed or missing keys.\n",
        "    \"\"\"\n",
        "    json_form = \"\"\"\n",
        "{\n",
        "  \"基本背景\": ___,\n",
        "  \"過去病史與危險因子\": ___,\n",
        "  \"現病史與症狀\": ___,\n",
        "  \"臨床檢查與檢驗\": ___,\n",
        "  \"治療與病程\": ___,\n",
        "  \"預後與後續計畫\": ___\n",
        "}\n",
        "\"\"\"\n",
        "    prompt = f\"\"\"\n",
        "你是醫學專業文本生成器。會根據診斷內容，生成一份完整的台灣病患虛擬設定。\n",
        "依照以下步驟生成一份完整的病歷內容：\n",
        "1. 根據疾病生成病人背景，包括：年齡、性別、職業、家族史、社會背景。\n",
        "2. 整理病人的既往病史、用藥史、生活習慣與危險因子。\n",
        "3. 描述現病史與症狀，包括主訴、病程、臨床檢查與檢驗發現。\n",
        "4. 說明治療過程、住院或門診經過、病情變化與追蹤。\n",
        "\n",
        "最後輸出JSON格式：\n",
        "{json_form}\n",
        "\n",
        "診斷內容:\n",
        "{diagnosis}\n",
        "\"\"\"\n",
        "    required_keys = [\"基本背景\", \"過去病史與危險因子\", \"現病史與症狀\", \"臨床檢查與檢驗\", \"治療與病程\", \"預後與後續計畫\"]\n",
        "    for attempt in range(3):\n",
        "        try:\n",
        "            resp = gemma3_json.invoke(prompt)\n",
        "            case_report = json.loads(resp.content)\n",
        "            if all(key in case_report for key in required_keys):\n",
        "                return case_report\n",
        "            else:\n",
        "                print(f\"Attempt {attempt + 1} failed: Missing keys in JSON. Retrying...\")\n",
        "        except (json.JSONDecodeError, TypeError) as e:\n",
        "            print(f\"Attempt {attempt + 1} failed with error: {e}. Retrying...\")\n",
        "\n",
        "    print(f\"Failed to generate valid patient data for diagnosis '{diagnosis}' after 3 attempts.\")\n",
        "    return None"
      ],
      "metadata": {
        "id": "EK5Kh0MQ9czQ"
      },
      "execution_count": null,
      "outputs": []
    },
    {
      "cell_type": "code",
      "source": [
        "if os.path.exists(\"data\") is False:\n",
        "    os.makedirs(\"data\")\n",
        "\n",
        "for icd_codes in icd_collections:\n",
        "    diagnosis = \"\"\n",
        "    for code in icd_codes:\n",
        "        diagnosis += f\"{ICD_MAPPING[code]} \"\n",
        "    print(diagnosis)\n",
        "\n",
        "    case_report = generate_virtual_patient_single(diagnosis)\n",
        "\n",
        "    if case_report:\n",
        "        file_path = os.path.join(\"data\", f\"{uuid.uuid4()}.json\")\n",
        "        full_case = {\"icd10\": icd_codes, \"diagnosis\": diagnosis, \"report\": case_report}\n",
        "        with open(file_path, \"w\") as writer:\n",
        "            json.dump(full_case, writer, indent=4, ensure_ascii=False)\n",
        "        print(file_path)\n",
        "    else:\n",
        "        print(f\"Skipping diagnosis due to generation failure: {diagnosis}\")\n",
        "        continue"
      ],
      "metadata": {
        "id": "R3ZgX-4z97m7"
      },
      "execution_count": null,
      "outputs": []
    },
    {
      "cell_type": "code",
      "source": [
        "!ls data"
      ],
      "metadata": {
        "id": "8RrMzCsn6QBZ"
      },
      "execution_count": null,
      "outputs": []
    },
    {
      "cell_type": "code",
      "source": [
        "from langchain_core.prompts import ChatPromptTemplate\n",
        "from langchain_core.output_parsers import StrOutputParser\n",
        "\n",
        "PATIENT_TEMPLATE = \"\"\"\n",
        "您將扮演一個醫療案例中的病患。請您以第一人稱的視角回答問題，如同在描述自己的情況。\n",
        "您的規則：\n",
        "1. 僅限病歷內容：您說的每句話都必須嚴格來自下方病歷檔案。請勿杜撰超出書面內容的細節。\n",
        "2. 明確問題原則：只有當醫師詢問具體問題時，您才回答。如果問題含糊或過於籠統（例如：談談您自己），請禮貌地拒絕，並請對方提出更具體的問題。\n",
        "3. 禁止診斷或解讀：您不得提供診斷、解讀檢驗結果或給予建議。只能陳述您病歷上記載的經歷、症狀和病史。\n",
        "4. 病患口吻：請始終使用第一人稱（例如：「我胸痛兩天了」、「我昨天吐了三次」）。請保持陳述的真實性，並與病歷檔案一致。避免使用非醫療專業人員不常使用的醫學術語。\n",
        "\n",
        "病歷檔案:\n",
        "{case_file}\n",
        "\n",
        "醫師的詢問:\n",
        "{query}\n",
        "\"\"\"\n",
        "\n",
        "def nested_dict_to_string(data_dict, indent=0):\n",
        "    \"\"\"\n",
        "    將字典轉換為帶有縮排的字串。\n",
        "    \"\"\"\n",
        "    lines = []\n",
        "    indent_space = '  ' * indent\n",
        "    for key, value in data_dict.items():\n",
        "        if isinstance(value, dict):\n",
        "            lines.append(f\"{indent_space}{key}:\")\n",
        "            lines.append(nested_dict_to_string(value, indent + 1))\n",
        "        else:\n",
        "            lines.append(f\"{indent_space}{key}: {value}\")\n",
        "    return '\\n'.join(lines)\n",
        "\n",
        "class Patient:\n",
        "    \"\"\"\n",
        "    一個用於醫療診斷對話的模擬病患。\n",
        "    \"\"\"\n",
        "    def __init__(self, case_file_path: str):\n",
        "        \"\"\"\n",
        "        初始化代理。\n",
        "        :param case_file_path: 案例檔案的路徑\n",
        "        \"\"\"\n",
        "        if not os.path.exists(case_file_path):\n",
        "            raise FileNotFoundError(f\"找不到檔案: {case_file_path}\")\n",
        "        self.case_file_content = self._load_case_file(case_file_path)\n",
        "        self.prompt_template = self._get_prompt_template()\n",
        "        self.chain = self.prompt_template | gemma3 | StrOutputParser()\n",
        "\n",
        "    def _load_case_file(self, file_path: str) -> str:\n",
        "        with open(file_path, 'r', encoding='utf-8') as f:\n",
        "            data = json.load(f)\n",
        "            case_data = data[\"report\"]\n",
        "            case_description = nested_dict_to_string(case_data)\n",
        "            print(case_description)\n",
        "        return case_description\n",
        "\n",
        "    def _get_prompt_template(self) -> ChatPromptTemplate:\n",
        "        template = PATIENT_TEMPLATE\n",
        "        return ChatPromptTemplate.from_template(template)\n",
        "\n",
        "    def handle_query(self, query: str) -> str:\n",
        "        response = self.chain.invoke({\n",
        "            \"case_file\": self.case_file_content,\n",
        "            \"query\": query\n",
        "        })\n",
        "        return response"
      ],
      "metadata": {
        "id": "9xRvfe8RAyVL"
      },
      "execution_count": null,
      "outputs": []
    },
    {
      "cell_type": "code",
      "source": [
        "case_file = 'data/2a0e02ab-ee87-48f7-b510-2e404cb2e8a0.json'\n",
        "agent = Patient(case_file_path=case_file)\n",
        "\n",
        "try:\n",
        "    print(\"請輸入您的詢問。輸入 'exit' 來結束。\")\n",
        "\n",
        "    while True:\n",
        "        user_query = input(\"醫師: \")\n",
        "        if user_query.lower() == 'exit':\n",
        "            break\n",
        "        response = agent.handle_query(user_query)\n",
        "        print(f\"病患: {response}\")\n",
        "except Exception as e:\n",
        "    print(f\"發生未預期的錯誤: {e}\")"
      ],
      "metadata": {
        "id": "5HwKtxJ1BF-H"
      },
      "execution_count": null,
      "outputs": []
    },
    {
      "cell_type": "code",
      "source": [
        "DOCTOR_TEMPLATE = \"\"\"\n",
        "您將扮演一個醫師。請持續詢問病患問題，收集資訊並進行鑑別診斷。\n",
        "當資訊足夠做出最後診斷時，請向病患說明您的判斷並宣布治療計畫。\n",
        "一次只能詢問一個問題，並且要向病患說明您詢問此問題的原因。\n",
        "\n",
        "過去對話:\n",
        "{dialogue}\n",
        "\"\"\"\n",
        "\n",
        "class Doctor:\n",
        "    \"\"\"\n",
        "    一個用於醫療診斷對話的模擬醫師。\n",
        "    \"\"\"\n",
        "    def __init__(self):\n",
        "        \"\"\"\n",
        "        初始化代理。\n",
        "        :param case_file_path: 案例檔案的路徑\n",
        "        \"\"\"\n",
        "        self.prompt_template = self._get_prompt_template()\n",
        "        self.chain = self.prompt_template | gemma3 | StrOutputParser()\n",
        "\n",
        "    def _get_prompt_template(self) -> ChatPromptTemplate:\n",
        "        template = DOCTOR_TEMPLATE\n",
        "        return ChatPromptTemplate.from_template(template)\n",
        "\n",
        "    def ask(self, dialogue: str) -> str:\n",
        "        response = self.chain.invoke({\n",
        "            \"dialogue\": dialogue\n",
        "        })\n",
        "        return response"
      ],
      "metadata": {
        "id": "owyI-x03BrIe"
      },
      "execution_count": null,
      "outputs": []
    },
    {
      "cell_type": "code",
      "source": [
        "dialogue = []\n",
        "agent = Doctor()\n",
        "\n",
        "try:\n",
        "    print(\"請輸入您的詢問。輸入 'exit' 來結束。\")\n",
        "\n",
        "    while True:\n",
        "        user_query = input(\"病人: \")\n",
        "        if user_query.lower() == 'exit':\n",
        "            break\n",
        "        dialogue.append(user_query)\n",
        "        response = agent.ask(dialogue)\n",
        "        dialogue.append(response)\n",
        "        print(f\"醫師: {response}\")\n",
        "except Exception as e:\n",
        "    print(f\"發生未預期的錯誤: {e}\")"
      ],
      "metadata": {
        "id": "wxxaz4jRBxvW"
      },
      "execution_count": null,
      "outputs": []
    },
    {
      "cell_type": "code",
      "source": [
        "import uuid\n",
        "\n",
        "def run_simulation(case_file_path: str, output_dir: str):\n",
        "    \"\"\"\n",
        "    執行一次醫生與病患的對話模擬。\n",
        "\n",
        "    :param case_file_path: 病患病歷檔案的路徑。\n",
        "    :param output_dir: 儲存對話紀錄的目錄。\n",
        "    \"\"\"\n",
        "    if not os.path.exists(case_file_path):\n",
        "        print(f\"錯誤: 找不到病歷檔案 {case_file_path}\")\n",
        "        return\n",
        "\n",
        "    doctor = Doctor()\n",
        "    patient = Patient(case_file_path=case_file_path)\n",
        "\n",
        "    dialogue = []\n",
        "    turn_count = 0\n",
        "    max_turns = 20\n",
        "\n",
        "    print(f\"--- 開始模擬對話 ---\")\n",
        "\n",
        "    # Start with the doctor's opening question\n",
        "    doctor_response = \"您好，請問有什麼可以協助您的嗎？\"\n",
        "    print(f\"醫師: {doctor_response}\")\n",
        "    dialogue.append({\"speaker\": \"Doctor\", \"text\": doctor_response})\n",
        "\n",
        "    while turn_count < max_turns:\n",
        "        turn_count += 1\n",
        "        print(f\"--- 第 {turn_count} 輪 ---\")\n",
        "\n",
        "        # Patient responds\n",
        "        patient_response = patient.handle_query(doctor_response)\n",
        "        print(f\"病患: {patient_response}\")\n",
        "        dialogue.append({\"speaker\": \"Patient\", \"text\": patient_response})\n",
        "\n",
        "        # Doctor asks another question\n",
        "        dialogue_history = \"\\n\".join([f\"{d['speaker']}: {d['text']}\" for d in dialogue])\n",
        "        doctor_response = doctor.ask(dialogue_history)\n",
        "        print(f\"醫師: {doctor_response}\")\n",
        "        dialogue.append({\"speaker\": \"Doctor\", \"text\": doctor_response})\n",
        "\n",
        "        # Check for termination condition\n",
        "        if \"治療計畫\" in doctor_response:\n",
        "            print(\"--- 對話結束: 醫師提到治療計畫 ---\")\n",
        "            break\n",
        "\n",
        "    if turn_count >= max_turns:\n",
        "        print(\"--- 對話結束: 已達最大輪數 ---\")\n",
        "\n",
        "    # Save dialogue to a JSON file\n",
        "    if not os.path.exists(output_dir):\n",
        "        os.makedirs(output_dir)\n",
        "\n",
        "    file_name = f\"simulation_{uuid.uuid4()}.json\"\n",
        "    output_path = os.path.join(output_dir, file_name)\n",
        "\n",
        "    with open(output_path, 'w', encoding='utf-8') as f:\n",
        "        json.dump(dialogue, f, ensure_ascii=False, indent=4)\n",
        "\n",
        "    print(f\"對話已儲存至 {output_path}\")"
      ],
      "metadata": {
        "id": "ByQ9Noq6DEia"
      },
      "execution_count": null,
      "outputs": []
    },
    {
      "cell_type": "code",
      "source": [
        "!mkdir simulations"
      ],
      "metadata": {
        "id": "R8o13oDFD31n"
      },
      "execution_count": null,
      "outputs": []
    },
    {
      "cell_type": "code",
      "source": [
        "output_directory = 'simulations'\n",
        "run_simulation(case_file_path=case_file, output_dir=output_directory)"
      ],
      "metadata": {
        "id": "sTm8a1K2DkZE"
      },
      "execution_count": null,
      "outputs": []
    }
  ]
}